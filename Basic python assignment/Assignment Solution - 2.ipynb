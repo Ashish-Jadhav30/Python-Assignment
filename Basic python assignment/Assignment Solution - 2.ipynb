{
 "cells": [
  {
   "cell_type": "markdown",
   "id": "3d6b651c",
   "metadata": {},
   "source": [
    "# Assignment Solution - 2"
   ]
  },
  {
   "cell_type": "markdown",
   "id": "6e9dce88",
   "metadata": {},
   "source": [
    "Question 1.  What are the two values of the boolean data types? how do you write them ?\n",
    "\n",
    "Answer:  True and False are two values of the boolen data types. We have to use capital T and F and with the rest of the word in lowercase."
   ]
  },
  {
   "cell_type": "code",
   "execution_count": 2,
   "id": "1e71cd6a",
   "metadata": {},
   "outputs": [
    {
     "name": "stdout",
     "output_type": "stream",
     "text": [
      "True <class 'bool'>\n",
      "False <class 'bool'>\n"
     ]
    }
   ],
   "source": [
    "x = True\n",
    "y = False\n",
    "print(x, type(x))\n",
    "print(y, type(y))"
   ]
  },
  {
   "cell_type": "markdown",
   "id": "d427d2f9",
   "metadata": {},
   "source": [
    "========================================================================================\n",
    "\n",
    "Question 2.  What are the three different types of Boolean operators ?\n",
    "Question 3.  Make a list of each Boolean operator's truth tables (i.e. every possible combination of Boolean values for the operator and what it evaluate) ?\n",
    "\n",
    "Answer:  There are three logical operators that are used to compare values. They evaluate expressions down to Boolean values, returning either True or False . These operators are and , or , and not"
   ]
  },
  {
   "cell_type": "code",
   "execution_count": 6,
   "id": "85ac3bde",
   "metadata": {},
   "outputs": [
    {
     "name": "stdout",
     "output_type": "stream",
     "text": [
      "True\n",
      "False\n",
      "False\n",
      "False\n"
     ]
    }
   ],
   "source": [
    "#AND operator\n",
    "print(True and True)\n",
    "print(True and False)\n",
    "print(False and True)\n",
    "print(False and False)"
   ]
  },
  {
   "cell_type": "code",
   "execution_count": 7,
   "id": "06d35e65",
   "metadata": {},
   "outputs": [
    {
     "name": "stdout",
     "output_type": "stream",
     "text": [
      "True\n",
      "True\n",
      "True\n",
      "False\n"
     ]
    }
   ],
   "source": [
    "#OR operator\n",
    "print(True or True)\n",
    "print(True or False)\n",
    "print(False or True)\n",
    "print(False or False)"
   ]
  },
  {
   "cell_type": "code",
   "execution_count": 8,
   "id": "63dd9e42",
   "metadata": {},
   "outputs": [
    {
     "name": "stdout",
     "output_type": "stream",
     "text": [
      "False\n",
      "True\n"
     ]
    }
   ],
   "source": [
    "#NOT operator\n",
    "print(not True)\n",
    "print(not False)"
   ]
  },
  {
   "cell_type": "markdown",
   "id": "f37c796c",
   "metadata": {},
   "source": [
    "=======================================================================================\n",
    "\n",
    "Question 4.  What are the values of the following expressions ?\n",
    "\n",
    "(5 > 4) and (3 == 5)\n",
    "not (5 > 4)\n",
    "(5 > 4) or (3 == 5)\n",
    "not ((5 > 4) or (3 == 5))\n",
    "(True and True) and (True == False)\n",
    "(not False) or (not True)\n",
    "\n",
    "Answer:  "
   ]
  },
  {
   "cell_type": "code",
   "execution_count": 13,
   "id": "743fa656",
   "metadata": {},
   "outputs": [
    {
     "name": "stdout",
     "output_type": "stream",
     "text": [
      "False\n",
      "False\n",
      "True\n",
      "False\n",
      "False\n",
      "True\n"
     ]
    }
   ],
   "source": [
    "#Answer:\n",
    "\n",
    "print((5 > 4) and (3 == 5))\n",
    "print(not (5 > 4))\n",
    "print((5 > 4) or (3 == 5))\n",
    "print(not (5 > 4) or (3 == 5))\n",
    "print((True and True) and (True == False))\n",
    "print((not False) or (not True))"
   ]
  },
  {
   "cell_type": "markdown",
   "id": "5994d120",
   "metadata": {},
   "source": [
    "=======================================================================================\n",
    "\n",
    "Question 5.  What are the six comparison operators ?\n",
    "\n",
    "Answer:  Comparison operators, also known as relational operators in Python, compare the values on either side of them and returns a boolean value. They tell whether a statement is True or False according to the condition.\n",
    "\n",
    "1. Equal :  ==\n",
    "2. Not equal:  !=\n",
    "3. Greater than:  >\n",
    "4. Less than:  <\n",
    "5. Greater than and equal to:  >=\n",
    "6. Less than and equal to:  <="
   ]
  },
  {
   "cell_type": "code",
   "execution_count": 14,
   "id": "8511decc",
   "metadata": {},
   "outputs": [
    {
     "name": "stdout",
     "output_type": "stream",
     "text": [
      "False\n",
      "True\n",
      "True\n",
      "False\n",
      "True\n",
      "False\n"
     ]
    }
   ],
   "source": [
    "x = 10\n",
    "y = 5\n",
    "print(x == y)\n",
    "print(x != y)\n",
    "print(x > y)\n",
    "print(x < y)\n",
    "print(x >= y)\n",
    "print(x <= y)"
   ]
  },
  {
   "cell_type": "markdown",
   "id": "674a729b",
   "metadata": {},
   "source": [
    "=====================================================================================\n",
    "\n",
    "Question 6.  How do you tell the difference between the equal to and assignment operators ? Describe a condition and when you would use one ?\n",
    "\n",
    "Answer:  == is the equal to operator that compares two values and evaluates to a Boolean, while = is that assignment operator that stores a value in a variable."
   ]
  },
  {
   "cell_type": "code",
   "execution_count": 21,
   "id": "689e8aa9",
   "metadata": {},
   "outputs": [
    {
     "name": "stdout",
     "output_type": "stream",
     "text": [
      "False\n"
     ]
    }
   ],
   "source": [
    "# Equal to operator\n",
    "a = 15\n",
    "b = 10\n",
    "print (a == b)"
   ]
  },
  {
   "cell_type": "code",
   "execution_count": 22,
   "id": "92b164cc",
   "metadata": {},
   "outputs": [
    {
     "data": {
      "text/plain": [
       "20"
      ]
     },
     "execution_count": 22,
     "metadata": {},
     "output_type": "execute_result"
    }
   ],
   "source": [
    "# Assignment operator\n",
    "c = 20\n",
    "c"
   ]
  },
  {
   "cell_type": "markdown",
   "id": "a87a0bc1",
   "metadata": {},
   "source": [
    "====================================================================================\n",
    "\n",
    "Question 7.  Identify the three blocks in this code\n",
    "\n",
    "spam = 0  \n",
    "if spam == 10:  \n",
    "    print('eggs')  # block #1\n",
    "if spam > 5:  \n",
    "    print('bacon')  # block #2\n",
    "else:  \n",
    "    print('ham')  # block #3\n",
    "print('spam')  \n",
    "print('spam')\n",
    "\n",
    "Answer:"
   ]
  },
  {
   "cell_type": "code",
   "execution_count": 24,
   "id": "34f2d944",
   "metadata": {},
   "outputs": [
    {
     "name": "stdout",
     "output_type": "stream",
     "text": [
      "ham\n",
      "spam\n",
      "spam\n"
     ]
    }
   ],
   "source": [
    "spam = 0  \n",
    "if spam == 10:  \n",
    "    print('eggs')\n",
    "if spam > 5:  \n",
    "    print('bacon')\n",
    "else:  \n",
    "    print('ham')\n",
    "    print('spam')\n",
    "    print('spam')"
   ]
  },
  {
   "cell_type": "markdown",
   "id": "80912568",
   "metadata": {},
   "source": [
    "==================================================================================\n",
    "\n",
    "Question 8.  Write code that prints Hello if 1 is stored in spam, prints Howdy if 2 is stored in spam, and prints Greetings! if anything else is stored in spam.\n",
    "\n",
    "def spamCode(spam):\n",
    "    if spam==1:\n",
    "        print('Hello')\n",
    "    elif spam==2:\n",
    "        print('Howdy')\n",
    "    else:\n",
    "        print('Greetings')\n",
    "spamCode(1) \n",
    "spamCode(2)\n",
    "spamCode(3)\n",
    "\n",
    "Answer: "
   ]
  },
  {
   "cell_type": "code",
   "execution_count": 26,
   "id": "55b4151f",
   "metadata": {},
   "outputs": [
    {
     "name": "stdout",
     "output_type": "stream",
     "text": [
      "Hello\n",
      "Howdy\n",
      "Greetings\n"
     ]
    }
   ],
   "source": [
    "def spamCode(spam):\n",
    "    if spam==1:\n",
    "        print('Hello')\n",
    "    elif spam==2:\n",
    "        print('Howdy')\n",
    "    else:\n",
    "        print('Greetings')\n",
    "spamCode(1)\n",
    "spamCode(2)\n",
    "spamCode(3)"
   ]
  },
  {
   "cell_type": "markdown",
   "id": "c4e194bd",
   "metadata": {},
   "source": [
    "=====================================================================================\n",
    "\n",
    "Question 9.  If your programme is stuck in an endless loop, what keys you’ll press ?\n",
    "\n",
    "Answer:  Press Ctrl-c to stop a program stuck in an infinite loop.\n",
    "\n",
    "=====================================================================================\n",
    "\n",
    "Question 10.  How can you tell the difference between break and continue ?\n",
    "\n",
    "Answer:  The break statement will move the execution outside the loop if break condtion is satisfied. Whereas the continue statement will move the execution to the start of the loop."
   ]
  },
  {
   "cell_type": "code",
   "execution_count": 27,
   "id": "5a5f165d",
   "metadata": {},
   "outputs": [
    {
     "name": "stdout",
     "output_type": "stream",
     "text": [
      "0\n",
      "1\n",
      "2\n"
     ]
    }
   ],
   "source": [
    "# Break statement\n",
    "for i in range(5):\n",
    "    if i == 3:\n",
    "        break\n",
    "    print(i)"
   ]
  },
  {
   "cell_type": "code",
   "execution_count": 28,
   "id": "90713305",
   "metadata": {},
   "outputs": [
    {
     "name": "stdout",
     "output_type": "stream",
     "text": [
      "0\n",
      "1\n",
      "2\n",
      "4\n"
     ]
    }
   ],
   "source": [
    "# Continue statement\n",
    "for i in range(5):\n",
    "    if i == 3:\n",
    "        continue\n",
    "    print(i)"
   ]
  },
  {
   "cell_type": "markdown",
   "id": "37ef307b",
   "metadata": {},
   "source": [
    "=====================================================================================\n",
    "\n",
    "Question 11.  In a for loop, what is the difference between range(10), range(0, 10), and range(0, 10, 1) ?\n",
    "\n",
    "Answer:  Difference as follows."
   ]
  },
  {
   "cell_type": "code",
   "execution_count": 29,
   "id": "393b41a1",
   "metadata": {},
   "outputs": [
    {
     "name": "stdout",
     "output_type": "stream",
     "text": [
      "0\n",
      "1\n",
      "2\n",
      "3\n",
      "4\n",
      "5\n",
      "6\n",
      "7\n",
      "8\n",
      "9\n"
     ]
    }
   ],
   "source": [
    "for i in range(10):\n",
    "    print(i)"
   ]
  },
  {
   "cell_type": "code",
   "execution_count": 30,
   "id": "f423f93e",
   "metadata": {},
   "outputs": [
    {
     "name": "stdout",
     "output_type": "stream",
     "text": [
      "0\n",
      "1\n",
      "2\n",
      "3\n",
      "4\n",
      "5\n",
      "6\n",
      "7\n",
      "8\n",
      "9\n"
     ]
    }
   ],
   "source": [
    "for i in range (0,10):\n",
    "    print(i)"
   ]
  },
  {
   "cell_type": "code",
   "execution_count": 31,
   "id": "e9ff7c7d",
   "metadata": {},
   "outputs": [
    {
     "name": "stdout",
     "output_type": "stream",
     "text": [
      "0\n",
      "1\n",
      "2\n",
      "3\n",
      "4\n",
      "5\n",
      "6\n",
      "7\n",
      "8\n",
      "9\n"
     ]
    }
   ],
   "source": [
    "for i in range (0,10,1):\n",
    "    print(i)"
   ]
  },
  {
   "cell_type": "markdown",
   "id": "82625391",
   "metadata": {},
   "source": [
    "=======================================================================================\n",
    "\n",
    "Question 12.  Write a short program that prints the numbers 1 to 10 using a for loop. Then write an equivalent program that prints the numbers 1 to 10 using a while loop ?\n",
    "\n",
    "print('-'*10,'Using For Loop','-'*10)\n",
    "for i in range(1,11):\n",
    "    print(i, end=\" \")\n",
    "print('\\n')\n",
    "print('-'*10,'Using While Loop','-'*10) \n",
    "i=1\n",
    "while i<=10:\n",
    "    print(i, end=\" \")\n",
    "    i+=1\n",
    "    \n",
    "Answer:"
   ]
  },
  {
   "cell_type": "code",
   "execution_count": 35,
   "id": "710af8c1",
   "metadata": {},
   "outputs": [
    {
     "name": "stdout",
     "output_type": "stream",
     "text": [
      "--------------- Using For Loop ---------------\n",
      "1 2 3 4 5 6 7 8 9 10 \n",
      "\n",
      "--------------- Using While Loop ---------------\n",
      "1 2 3 4 5 6 7 8 9 10 "
     ]
    }
   ],
   "source": [
    "print('-'*15,'Using For Loop','-'*15)\n",
    "for i in range(1,11):\n",
    "    print(i, end=\" \")\n",
    "print('\\n')\n",
    "print('-'*15,'Using While Loop','-'*15) \n",
    "i=1\n",
    "while i<=10:\n",
    "    print(i, end=\" \")\n",
    "    i+=1"
   ]
  },
  {
   "cell_type": "markdown",
   "id": "1dfef351",
   "metadata": {},
   "source": [
    "====================================================================================\n",
    "\n",
    "Question 13.  If you had a function named bacon() inside a module named spam, how would you call it after importing spam ?\n",
    "\n",
    "Answer:  This function can be called with spam.bacon()\n",
    "\n",
    "==================================================================================="
   ]
  }
 ],
 "metadata": {
  "kernelspec": {
   "display_name": "Python 3 (ipykernel)",
   "language": "python",
   "name": "python3"
  },
  "language_info": {
   "codemirror_mode": {
    "name": "ipython",
    "version": 3
   },
   "file_extension": ".py",
   "mimetype": "text/x-python",
   "name": "python",
   "nbconvert_exporter": "python",
   "pygments_lexer": "ipython3",
   "version": "3.11.4"
  }
 },
 "nbformat": 4,
 "nbformat_minor": 5
}
