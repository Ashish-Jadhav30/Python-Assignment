{
 "cells": [
  {
   "cell_type": "markdown",
   "id": "628f6d2d",
   "metadata": {},
   "source": [
    "# Assignment Solution - 4"
   ]
  },
  {
   "cell_type": "markdown",
   "id": "69137805",
   "metadata": {},
   "source": [
    "Question 1.  What exactly is [ ] ?\n",
    "\n",
    "Answer:The empty list represented by [] is a list that contains no elements.\n",
    "\n",
    "============================================================================================\n",
    "\n",
    "Question 2.  In a list of values stored in a variable called spam, how would you assign the value 'hello' as the third value? (Assume [2, 4, 6, 8, 10] are in spam.)\n",
    "\n",
    "Answer:  Firstly [ 2, 4, 6, 8, 10]  this list assign to spam. Then change the 3rd element of the list by using indexing method and assigning value as 'hello'. The index of third element is 2."
   ]
  },
  {
   "cell_type": "code",
   "execution_count": 1,
   "id": "0719de69",
   "metadata": {},
   "outputs": [
    {
     "name": "stdout",
     "output_type": "stream",
     "text": [
      "[2, 4, 'hello', 8, 10]\n"
     ]
    }
   ],
   "source": [
    "spam = [2, 4, 6, 8, 10]\n",
    "spam[2] = 'hello'\n",
    "print(spam)"
   ]
  },
  {
   "cell_type": "code",
   "execution_count": null,
   "id": "1e4b779b",
   "metadata": {},
   "outputs": [],
   "source": [
    "#Let's pretend the spam includes the list ['a','b','c',d'] for the next three queries."
   ]
  },
  {
   "cell_type": "markdown",
   "id": "92c58c46",
   "metadata": {},
   "source": [
    "==========================================================================================\n",
    "\n",
    "Question 3.  What is the value of spam[int(int('3'*2)//11)]\n",
    "\n",
    "Answer:  'd' (Note that '3' * 2 is the string '33', which is passed to int() before being divided by 11. This eventually evaluates to 3, spam[3] is equal to d.)"
   ]
  },
  {
   "cell_type": "code",
   "execution_count": 2,
   "id": "d1bb8d46",
   "metadata": {},
   "outputs": [
    {
     "name": "stdout",
     "output_type": "stream",
     "text": [
      "d\n"
     ]
    }
   ],
   "source": [
    "spam = ['a','b','c','d']\n",
    "print(spam [int(int('3'*2)//11)])"
   ]
  },
  {
   "cell_type": "markdown",
   "id": "b4dedecc",
   "metadata": {},
   "source": [
    "========================================================================================\n",
    "\n",
    "Question 4.  What is the value of spam[-1] ?\n",
    "\n",
    "Answer:  'd' (Lists support Negative indexing, Hence spam[-1] returns 'd')"
   ]
  },
  {
   "cell_type": "code",
   "execution_count": 3,
   "id": "8dafb3d5",
   "metadata": {},
   "outputs": [
    {
     "name": "stdout",
     "output_type": "stream",
     "text": [
      "d\n"
     ]
    }
   ],
   "source": [
    "spam = ['a','b','c','d']\n",
    "print(spam[-1])"
   ]
  },
  {
   "cell_type": "markdown",
   "id": "161a6dc6",
   "metadata": {},
   "source": [
    "=======================================================================================\n",
    "\n",
    "Question 5.  What is the value of spam[:2] ?\n",
    "\n",
    "Answer: ['a', 'b'] (spam[:2] returns all elements in the list spam from 0 to 2 excluding 2.)"
   ]
  },
  {
   "cell_type": "code",
   "execution_count": 4,
   "id": "5e1028ff",
   "metadata": {},
   "outputs": [
    {
     "name": "stdout",
     "output_type": "stream",
     "text": [
      "['a', 'b']\n"
     ]
    }
   ],
   "source": [
    "spam = ['a','b','c','d']\n",
    "print(spam[:2])"
   ]
  },
  {
   "cell_type": "code",
   "execution_count": null,
   "id": "c0930876",
   "metadata": {},
   "outputs": [],
   "source": [
    "\"\"\"=====================================================================================\"\"\"\n",
    "\n",
    "#Let's pretend bacon has the list [3.14,'cat',11,'cat',True] for the next three question"
   ]
  },
  {
   "cell_type": "markdown",
   "id": "10983577",
   "metadata": {},
   "source": [
    "Question 6.  What is the value of bacon.index('cat') ?\n",
    "\n",
    "Answer:  The value of bacon.index('cat') is 1 (Note: index method returns the index of first occuerence of 'cat')"
   ]
  },
  {
   "cell_type": "code",
   "execution_count": 5,
   "id": "973ca6db",
   "metadata": {},
   "outputs": [
    {
     "data": {
      "text/plain": [
       "1"
      ]
     },
     "execution_count": 5,
     "metadata": {},
     "output_type": "execute_result"
    }
   ],
   "source": [
    "bacon = [3.14,'cat',11,'cat',True]\n",
    "bacon.index('cat')"
   ]
  },
  {
   "cell_type": "markdown",
   "id": "cb423d95",
   "metadata": {},
   "source": [
    "=======================================================================================\n",
    "\n",
    "Question 7.  How does bacon.append(99) change the look of the list value in bacon ?\n",
    "\n",
    "Answer: The append method adds new elements to the end of the list."
   ]
  },
  {
   "cell_type": "code",
   "execution_count": 6,
   "id": "2259fdeb",
   "metadata": {},
   "outputs": [
    {
     "name": "stdout",
     "output_type": "stream",
     "text": [
      "[3.14, 'cat', 11, 'cat', True, 99]\n"
     ]
    }
   ],
   "source": [
    "bacon = [3.14,'cat',11,'cat',True]\n",
    "bacon.append(99)\n",
    "print(bacon)"
   ]
  },
  {
   "cell_type": "markdown",
   "id": "6be47b93",
   "metadata": {},
   "source": [
    "=======================================================================================\n",
    "\n",
    "Question 8.  How does bacon.remove('cat') change the look of the list in bacon ?\n",
    "\n",
    "Answer:  The remove method removes the first occurence of the element in the list."
   ]
  },
  {
   "cell_type": "code",
   "execution_count": 7,
   "id": "7dfb147d",
   "metadata": {},
   "outputs": [
    {
     "name": "stdout",
     "output_type": "stream",
     "text": [
      "[3.14, 11, 'cat', True]\n"
     ]
    }
   ],
   "source": [
    "bacon = [3.14,'cat',11,'cat',True]\n",
    "bacon.remove('cat')\n",
    "print(bacon)"
   ]
  },
  {
   "cell_type": "markdown",
   "id": "7e745d14",
   "metadata": {},
   "source": [
    "=======================================================================================\n",
    "\n",
    "Question 9.  what are the list concatenation and list replication operations ?\n",
    "\n",
    "Answer:  we can use the operators + and * to concatenate and replicate lists. When + appears between two lists, the expression will be evaluated as a new list that contains the elements from both lists. The elements in the list on the left of + will appear first, and the elements on the right will appear last."
   ]
  },
  {
   "cell_type": "code",
   "execution_count": 9,
   "id": "095ff0a9",
   "metadata": {},
   "outputs": [
    {
     "name": "stdout",
     "output_type": "stream",
     "text": [
      "['A', 'B', 'c', 'd', 'E', 'f', 'Hello world!', 'Python', '15.66', '100']\n",
      "['A', 'B', 'c', 'd', 'E', 'f', 'A', 'B', 'c', 'd', 'E', 'f']\n"
     ]
    }
   ],
   "source": [
    "#e.g\n",
    "\n",
    "list_one = ['A','B','c','d','E','f']\n",
    "list_two = ['Hello world!','Python','15.66','100']\n",
    "concatenation = list_one + list_two\n",
    "replication = list_one * 2\n",
    "print(concatenation)\n",
    "print(replication)"
   ]
  },
  {
   "cell_type": "markdown",
   "id": "e76993db",
   "metadata": {},
   "source": [
    "====================================================================================\n",
    "\n",
    "Question 10.  what is the difference between the list method append() and insert() ?\n",
    "\n",
    "Answer:  While append() will add values only to the end of a list, insert() can add them anywhere in the list."
   ]
  },
  {
   "cell_type": "code",
   "execution_count": 11,
   "id": "3105b3f9",
   "metadata": {},
   "outputs": [
    {
     "name": "stdout",
     "output_type": "stream",
     "text": [
      "['A', 'B', 'c', 'd', 'E', 'f', 'Hello world!', 'Python', '15.66', '100', 'Good']\n"
     ]
    }
   ],
   "source": [
    "#append method\n",
    "list = ['A', 'B', 'c', 'd', 'E', 'f', 'Hello world!', 'Python', '15.66', '100']\n",
    "list.append('Good')\n",
    "print(list)"
   ]
  },
  {
   "cell_type": "code",
   "execution_count": 13,
   "id": "ba437acb",
   "metadata": {},
   "outputs": [
    {
     "name": "stdout",
     "output_type": "stream",
     "text": [
      "['A', 'B', 'c', 'd', 'E', 'Good', 'f', 'Hello world!', 'Python', '15.66', '100']\n"
     ]
    }
   ],
   "source": [
    "#insert method\n",
    "list = ['A', 'B', 'c', 'd', 'E', 'f', 'Hello world!', 'Python', '15.66', '100']\n",
    "list.insert(5,'Good')\n",
    "print(list)"
   ]
  },
  {
   "cell_type": "markdown",
   "id": "c853adae",
   "metadata": {},
   "source": [
    "===================================================================================\n",
    "\n",
    "Question 11.  What are the two methods for removing items from a list ?\n",
    "\n",
    "Answer:  The del statement and the remove() method are two ways to remove values from a list."
   ]
  },
  {
   "cell_type": "code",
   "execution_count": 21,
   "id": "69ca3681",
   "metadata": {},
   "outputs": [
    {
     "name": "stdout",
     "output_type": "stream",
     "text": [
      "['A', 'B', 'c', 'd', 'E', 'f', 'Python', '15.66', '100']\n"
     ]
    }
   ],
   "source": [
    "#delete statement\n",
    "list = ['A', 'B', 'c', 'd', 'E', 'f', 'Hello world!', 'Python', '15.66', '100']\n",
    "del list[6]\n",
    "print(list)"
   ]
  },
  {
   "cell_type": "code",
   "execution_count": 22,
   "id": "06a2f32f",
   "metadata": {},
   "outputs": [
    {
     "name": "stdout",
     "output_type": "stream",
     "text": [
      "['A', 'B', 'c', 'd', 'E', 'f', 'Python', '15.66', '100']\n"
     ]
    }
   ],
   "source": [
    "#remove method\n",
    "list = ['A', 'B', 'c', 'd', 'E', 'f', 'Hello world!', 'Python', '15.66', '100']\n",
    "list.remove('Hello world!')\n",
    "print(list)"
   ]
  },
  {
   "cell_type": "markdown",
   "id": "f2512547",
   "metadata": {},
   "source": [
    "===============================================================================\n",
    "\n",
    "Question 12.  Describe how list values and string values are identical.\n",
    "\n",
    "Answer:  Both lists and strings can be passed to len() function, have indexes and slices, be used in for loops, be concatenated or replicated, and be used with the in and not in operators."
   ]
  },
  {
   "cell_type": "code",
   "execution_count": 24,
   "id": "9f66b215",
   "metadata": {},
   "outputs": [
    {
     "name": "stdout",
     "output_type": "stream",
     "text": [
      "10\n",
      "f\n",
      "['B', 'c', 'd', 'E', 'f']\n",
      "A\n",
      "B\n",
      "c\n",
      "d\n",
      "E\n",
      "f\n",
      "Hello world!\n",
      "Python\n",
      "15.66\n",
      "100\n",
      "['A', 'B', 'c', 'd', 'E', 'f', 'Hello world!', 'Python', '15.66', '100', 1, 2, 3, 4]\n",
      "['A', 'B', 'c', 'd', 'E', 'f', 'Hello world!', 'Python', '15.66', '100', 'A', 'B', 'c', 'd', 'E', 'f', 'Hello world!', 'Python', '15.66', '100', 'A', 'B', 'c', 'd', 'E', 'f', 'Hello world!', 'Python', '15.66', '100']\n"
     ]
    }
   ],
   "source": [
    "#list \n",
    "list = ['A', 'B', 'c', 'd', 'E', 'f', 'Hello world!', 'Python', '15.66', '100']\n",
    "list2 = [1,2,3,4]\n",
    "print(len(list)) #len function\n",
    "print(list[5]) #indexing\n",
    "print(list[1:6]) #slicing\n",
    "for i in list: #for loop\n",
    "    print(i)\n",
    "concatenation = list + list2 #concatenation\n",
    "replication = list * 3 #replication\n",
    "print(concatenation)\n",
    "print(replication)"
   ]
  },
  {
   "cell_type": "code",
   "execution_count": 25,
   "id": "f9e87a3b",
   "metadata": {},
   "outputs": [
    {
     "name": "stdout",
     "output_type": "stream",
     "text": [
      "10\n",
      "f\n",
      "('B', 'c', 'd', 'E', 'f')\n",
      "A\n",
      "B\n",
      "c\n",
      "d\n",
      "E\n",
      "f\n",
      "Hello world!\n",
      "Python\n",
      "15.66\n",
      "100\n",
      "('A', 'B', 'c', 'd', 'E', 'f', 'Hello world!', 'Python', '15.66', '100', '1', '2', '3', '4')\n",
      "('A', 'B', 'c', 'd', 'E', 'f', 'Hello world!', 'Python', '15.66', '100', 'A', 'B', 'c', 'd', 'E', 'f', 'Hello world!', 'Python', '15.66', '100', 'A', 'B', 'c', 'd', 'E', 'f', 'Hello world!', 'Python', '15.66', '100')\n"
     ]
    }
   ],
   "source": [
    "#string\n",
    "string = 'A', 'B', 'c', 'd', 'E', 'f', 'Hello world!', 'Python', '15.66', '100'\n",
    "string2 = '1','2','3','4'\n",
    "print(len(string)) #len function\n",
    "print(string[5]) #indexing\n",
    "print(string[1:6]) #slicing\n",
    "for i in string: #for loop\n",
    "    print(i)\n",
    "concatenation = string + string2 #concatenation\n",
    "replication = string * 3 #replication\n",
    "print(concatenation)\n",
    "print(replication)"
   ]
  },
  {
   "cell_type": "markdown",
   "id": "3ff39c93",
   "metadata": {},
   "source": [
    "=========================================================================================\n",
    "\n",
    "Question 13.  What's the difference between tuples and lists ?\n",
    "\n",
    "Answer:  Lists are Mutable, Indexable and Slicable. they can have values added, removed, or changed. Tuples are Immutable but Indexable and Slicable. the tuple values cannot be changed at all. Also, tuples are represented using parentheses, (), while lists use the square brackets, [].\n",
    "\n",
    "=========================================================================================\n",
    "\n",
    "Question 14.  How do you type a tuple value that only contains the integer 42 ?\n",
    "\n",
    "Answer:  (42,) (The trailing comma is mandatory. otherwise its considered as a int by python Interpreter)"
   ]
  },
  {
   "cell_type": "code",
   "execution_count": 26,
   "id": "1297e8e7",
   "metadata": {},
   "outputs": [
    {
     "name": "stdout",
     "output_type": "stream",
     "text": [
      "<class 'int'>\n",
      "<class 'tuple'>\n"
     ]
    }
   ],
   "source": [
    "tup1=(42)\n",
    "tup2=(42,)\n",
    "print(type(tup1))\n",
    "print(type(tup2))"
   ]
  },
  {
   "cell_type": "markdown",
   "id": "a37d72a9",
   "metadata": {},
   "source": [
    "=========================================================================================\n",
    "\n",
    "Question 15.  How do you get a list value's tuple form? How do you get a tuple value's list form ?\n",
    "\n",
    "Answer:  The tuple() and list() functions, respectively are used to convert a list to tuple and vice versa."
   ]
  },
  {
   "cell_type": "code",
   "execution_count": 28,
   "id": "61b0276e",
   "metadata": {},
   "outputs": [
    {
     "name": "stdout",
     "output_type": "stream",
     "text": [
      "('A', 'B', 'c', 'd', 'E', 'f', 'Hello world!', 'Python', '15.66', '100')\n"
     ]
    }
   ],
   "source": [
    "#List to tuple\n",
    "list = ['A', 'B', 'c', 'd', 'E', 'f', 'Hello world!', 'Python', '15.66', '100']\n",
    "print(tuple(list))"
   ]
  },
  {
   "cell_type": "markdown",
   "id": "e3446948",
   "metadata": {},
   "source": [
    "===========================================================================================\n",
    "\n",
    "Question 16.  Variables that \"contain\" list values are not necessarily lists themselves. Instead, what do they contain ?\n",
    "\n",
    "Answer:  They contain references to list values.\n",
    "\n",
    "============================================================================================\n",
    "\n",
    "Question 17.  How do you distinguish between copy.copy() and copy.deepcopy() ?\n",
    "\n",
    "Answer:  The copy.copy() function will do a shallow copy of a list, while the copy.deepcopy() function will do a deep copy of a list. That is, only copy.deepcopy() will duplicate any lists inside the list.\n",
    "\n",
    "============================================================================================"
   ]
  },
  {
   "cell_type": "code",
   "execution_count": null,
   "id": "365e6cc0",
   "metadata": {},
   "outputs": [],
   "source": []
  }
 ],
 "metadata": {
  "kernelspec": {
   "display_name": "Python 3 (ipykernel)",
   "language": "python",
   "name": "python3"
  },
  "language_info": {
   "codemirror_mode": {
    "name": "ipython",
    "version": 3
   },
   "file_extension": ".py",
   "mimetype": "text/x-python",
   "name": "python",
   "nbconvert_exporter": "python",
   "pygments_lexer": "ipython3",
   "version": "3.11.4"
  }
 },
 "nbformat": 4,
 "nbformat_minor": 5
}
