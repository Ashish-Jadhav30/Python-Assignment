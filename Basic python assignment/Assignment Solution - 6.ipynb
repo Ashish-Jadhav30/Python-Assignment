{
 "cells": [
  {
   "cell_type": "markdown",
   "id": "0b34062a",
   "metadata": {},
   "source": [
    "# Assignment Solution - 6"
   ]
  },
  {
   "cell_type": "markdown",
   "id": "a00791e5",
   "metadata": {},
   "source": [
    "==============================================================================\n",
    "\n",
    "Question 1.  What are Escape characters ? and how do you use them ?\n",
    "\n",
    "Answer:  Escape characters or sequences are illegal characters for Python and never get printed as part of the output. When backslash (\\) is used in Python programming, it allows the program to escape the next characters. Explanation: Here, the escape character could be t, n, e, or backslash itself."
   ]
  },
  {
   "cell_type": "code",
   "execution_count": 1,
   "id": "61737573",
   "metadata": {},
   "outputs": [
    {
     "name": "stdout",
     "output_type": "stream",
     "text": [
      "We are the so-called \"Vikings\" from the north.\n"
     ]
    }
   ],
   "source": [
    "txt = \"We are the so-called \\\"Vikings\\\" from the north.\"\n",
    "print(txt)"
   ]
  },
  {
   "cell_type": "markdown",
   "id": "44e3f413",
   "metadata": {},
   "source": [
    " ============================================================================\n",
    " \n",
    " Question 2.  What do the escape characters n and t stand for ?\n",
    " \n",
    " Answer:  \\n is a newline, \\t is a tab.\n",
    " \n",
    " ============================================================================\n",
    " \n",
    " Question 3.  What is the way to include backslash character in a string ?\n",
    " \n",
    " Answer:  The \\\\ escape character will represent the backslash character in a string.\n",
    " \n",
    " ============================================================================\n",
    " \n",
    " Question 4.  The string \"Howl's Moving Castle\" is a correct value. Why isn't the single quote character in the word Howl's not escaped a problem ?\n",
    " \n",
    " Answer:  The string \"Howl's Moving Castle\" escaped the problem because it is wrapped inside double quotes. if its wrapped inside single quotes then we have to use escape character \\' to show single quote in the final output."
   ]
  },
  {
   "cell_type": "code",
   "execution_count": 2,
   "id": "47f4221d",
   "metadata": {},
   "outputs": [
    {
     "name": "stdout",
     "output_type": "stream",
     "text": [
      "Howl's Moving Castle\n"
     ]
    }
   ],
   "source": [
    "string = 'Howl\\'s Moving Castle'\n",
    "print(string)"
   ]
  },
  {
   "cell_type": "markdown",
   "id": "9d62b565",
   "metadata": {},
   "source": [
    "=============================================================================\n",
    "\n",
    "Question 5.  How do you write a string of newlines if you don't want to use the n character ?\n",
    "\n",
    "Answer: Multiline string allow you to use newlines in string without the \\n escape character."
   ]
  },
  {
   "cell_type": "code",
   "execution_count": 3,
   "id": "853a98d9",
   "metadata": {},
   "outputs": [
    {
     "name": "stdout",
     "output_type": "stream",
     "text": [
      "Hello\n",
      "world!\n"
     ]
    }
   ],
   "source": [
    "string = '''Hello\n",
    "world!'''\n",
    "print(string)"
   ]
  },
  {
   "cell_type": "markdown",
   "id": "fce96930",
   "metadata": {},
   "source": [
    "============================================================================\n",
    "\n",
    "Question 6.  What are the values of the given expressions ?\n",
    "'Hello, world!'[1]\n",
    "'Hello, world!'[0:5]\n",
    "'Hello, world!'[:5]\n",
    "'Hello, world!'[3:]\n",
    "\n",
    "Answer:  The values for the given expressions are:"
   ]
  },
  {
   "cell_type": "code",
   "execution_count": 7,
   "id": "d67bab28",
   "metadata": {},
   "outputs": [
    {
     "data": {
      "text/plain": [
       "'e'"
      ]
     },
     "execution_count": 7,
     "metadata": {},
     "output_type": "execute_result"
    }
   ],
   "source": [
    "'Hello, world!'[1]"
   ]
  },
  {
   "cell_type": "code",
   "execution_count": 8,
   "id": "554cd3d7",
   "metadata": {},
   "outputs": [
    {
     "data": {
      "text/plain": [
       "'Hello'"
      ]
     },
     "execution_count": 8,
     "metadata": {},
     "output_type": "execute_result"
    }
   ],
   "source": [
    "'Hello, world!'[0:5]"
   ]
  },
  {
   "cell_type": "code",
   "execution_count": 9,
   "id": "0d7cf1ea",
   "metadata": {},
   "outputs": [
    {
     "data": {
      "text/plain": [
       "'Hello'"
      ]
     },
     "execution_count": 9,
     "metadata": {},
     "output_type": "execute_result"
    }
   ],
   "source": [
    "'Hello, world!'[:5]"
   ]
  },
  {
   "cell_type": "code",
   "execution_count": 10,
   "id": "c7e1ad87",
   "metadata": {},
   "outputs": [
    {
     "data": {
      "text/plain": [
       "'lo, world!'"
      ]
     },
     "execution_count": 10,
     "metadata": {},
     "output_type": "execute_result"
    }
   ],
   "source": [
    "'Hello, world!'[3:]"
   ]
  },
  {
   "cell_type": "markdown",
   "id": "e187f111",
   "metadata": {},
   "source": [
    "===========================================================================\n",
    "\n",
    "Question 7.  What are the values of the following expressions ?\n",
    " 'Hello'.upper()\n",
    "'Hello'.upper().isupper()\n",
    "'Hello'.upper().lower()\n",
    "\n",
    "Answer: The values for the given expressions are:"
   ]
  },
  {
   "cell_type": "code",
   "execution_count": 11,
   "id": "47473187",
   "metadata": {},
   "outputs": [
    {
     "data": {
      "text/plain": [
       "'HELLO'"
      ]
     },
     "execution_count": 11,
     "metadata": {},
     "output_type": "execute_result"
    }
   ],
   "source": [
    " 'Hello'.upper()"
   ]
  },
  {
   "cell_type": "code",
   "execution_count": 12,
   "id": "e7fe677d",
   "metadata": {},
   "outputs": [
    {
     "data": {
      "text/plain": [
       "True"
      ]
     },
     "execution_count": 12,
     "metadata": {},
     "output_type": "execute_result"
    }
   ],
   "source": [
    "'Hello'.upper().isupper()"
   ]
  },
  {
   "cell_type": "code",
   "execution_count": 13,
   "id": "8ee6caef",
   "metadata": {},
   "outputs": [
    {
     "data": {
      "text/plain": [
       "'hello'"
      ]
     },
     "execution_count": 13,
     "metadata": {},
     "output_type": "execute_result"
    }
   ],
   "source": [
    "'Hello'.upper().lower()"
   ]
  },
  {
   "cell_type": "markdown",
   "id": "c7b64acf",
   "metadata": {},
   "source": [
    "===========================================================================\n",
    "\n",
    "Question 8.  What are the values of the following expressions ?\n",
    "'Remember, remember, the fifith of July.'.split()\n",
    "-'.join('There can only one'.split())\n",
    "\n",
    "Answer:  The values for the given expressions are:"
   ]
  },
  {
   "cell_type": "code",
   "execution_count": 14,
   "id": "56f2c804",
   "metadata": {},
   "outputs": [
    {
     "data": {
      "text/plain": [
       "['Remember,', 'remember,', 'the', 'fifith', 'of', 'July.']"
      ]
     },
     "execution_count": 14,
     "metadata": {},
     "output_type": "execute_result"
    }
   ],
   "source": [
    "'Remember, remember, the fifith of July.'.split()"
   ]
  },
  {
   "cell_type": "code",
   "execution_count": 16,
   "id": "bf881935",
   "metadata": {},
   "outputs": [
    {
     "data": {
      "text/plain": [
       "'There-can-only-one'"
      ]
     },
     "execution_count": 16,
     "metadata": {},
     "output_type": "execute_result"
    }
   ],
   "source": [
    "'-'.join('There can only one'.split())"
   ]
  },
  {
   "cell_type": "markdown",
   "id": "f6df6baf",
   "metadata": {},
   "source": [
    "===========================================================================\n",
    "\n",
    "Question 9.  What are the methods for right-justifying, left-justifying and centering a string ?\n",
    "\n",
    "Answer:  The rjust(),ljust(),center() string methods, respectively.\n",
    "\n",
    "===========================================================================\n",
    "\n",
    "Question 10.  What is the best way to remove whitespace characters from the start or end ?\n",
    "\n",
    "Answer:  The lstrip() and rstrip() methods remove whitesapce characters from the left and right ends of a string respectively.\n",
    "\n",
    "==========================================================================="
   ]
  }
 ],
 "metadata": {
  "kernelspec": {
   "display_name": "Python 3 (ipykernel)",
   "language": "python",
   "name": "python3"
  },
  "language_info": {
   "codemirror_mode": {
    "name": "ipython",
    "version": 3
   },
   "file_extension": ".py",
   "mimetype": "text/x-python",
   "name": "python",
   "nbconvert_exporter": "python",
   "pygments_lexer": "ipython3",
   "version": "3.11.4"
  }
 },
 "nbformat": 4,
 "nbformat_minor": 5
}
