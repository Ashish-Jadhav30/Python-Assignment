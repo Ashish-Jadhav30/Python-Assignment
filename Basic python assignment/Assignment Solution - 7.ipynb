{
 "cells": [
  {
   "cell_type": "markdown",
   "id": "d01c10ba",
   "metadata": {},
   "source": [
    "# Assignment Solution - 7"
   ]
  },
  {
   "cell_type": "markdown",
   "id": "6c1600d7",
   "metadata": {},
   "source": [
    "===========================================================================================\n",
    "\n",
    "Question 1.  What is the name of the feature responsible for generating Regex objects ?\n",
    "\n",
    "Answer:  re.compile() is the feature responsible for generation of Regex objects.\n",
    "\n"
   ]
  },
  {
   "cell_type": "code",
   "execution_count": 2,
   "id": "0b219102",
   "metadata": {},
   "outputs": [
    {
     "name": "stdout",
     "output_type": "stream",
     "text": [
      "re.compile('Hello World!')\n"
     ]
    }
   ],
   "source": [
    "import re\n",
    "x = re.compile(\"Hello World!\")\n",
    "type(x)\n",
    "print(x)"
   ]
  },
  {
   "cell_type": "markdown",
   "id": "373389d9",
   "metadata": {},
   "source": [
    "===========================================================================================\n",
    "\n",
    "Question 2.  Why do raw strings often appear in Regex objects ?\n",
    "\n",
    "Answer:  A raw string is a special type of string that allows you to include backslashes (\\) without interpreting them as escape sequences. Raw strings are used so that backslashes do not have to be escaped.\n",
    "\n",
    "===========================================================================================\n",
    "\n",
    "Question 3.   What is the return value of the search() method ?\n",
    "\n",
    "Answer:  The return value of re.search(pattern,string) method is a match object if the pattern is observed in the string else it returns a None."
   ]
  },
  {
   "cell_type": "code",
   "execution_count": 3,
   "id": "0ffc957d",
   "metadata": {},
   "outputs": [
    {
     "name": "stdout",
     "output_type": "stream",
     "text": [
      "Output: <re.Match object; span=(7, 8), match='i'>\n",
      "Output: None\n"
     ]
    }
   ],
   "source": [
    "import re\n",
    "match = re.search('i','Data Science Program', flags=re.IGNORECASE)\n",
    "print('Output:',match)\n",
    "match = re.search('X','Data Science Program', flags=re.IGNORECASE)\n",
    "print('Output:',match)"
   ]
  },
  {
   "cell_type": "markdown",
   "id": "d745f1f7",
   "metadata": {},
   "source": [
    "==========================================================================================\n",
    "\n",
    "Question 4.   From a Match item, how do you get the actual strings that match the pattern ?\n",
    "\n",
    "Answer:  For Matched items group() methods returns actual strings that match the pattern."
   ]
  },
  {
   "cell_type": "code",
   "execution_count": 6,
   "id": "bb1e3279",
   "metadata": {},
   "outputs": [
    {
     "name": "stdout",
     "output_type": "stream",
     "text": [
      "Output: Python\n"
     ]
    }
   ],
   "source": [
    "import re\n",
    "match = re.search('Python','Data Science Program using Python', flags=re.IGNORECASE)\n",
    "print('Output:',match.group())"
   ]
  },
  {
   "cell_type": "markdown",
   "id": "b46c1cad",
   "metadata": {},
   "source": [
    "=========================================================================================\n",
    "\n",
    "Question 5.   In the regex which created from the r'(\\d\\d\\d)-(\\d\\d\\d-\\d\\d\\d\\d)', what does group zero cover? Group 2? Group 1 ?\n",
    "\n",
    "Answer:   In the Regex r'(\\d\\d\\d)-(\\d\\d\\d-\\d\\d\\d\\d)' the zero group covers the entire pattern match where as the first group cover (\\d\\d\\d) and the second group cover (\\d\\d\\d-\\d\\d\\d\\d)."
   ]
  },
  {
   "cell_type": "code",
   "execution_count": 7,
   "id": "9b980fa4",
   "metadata": {},
   "outputs": [
    {
     "name": "stdout",
     "output_type": "stream",
     "text": [
      "('123', '456-7890')\n",
      "123-456-7890\n",
      "123\n",
      "456-7890\n"
     ]
    }
   ],
   "source": [
    "import re\n",
    "phoneNumRegex = re.compile(r'(\\d\\d\\d)-(\\d\\d\\d-\\d\\d\\d\\d)')\n",
    "mo = phoneNumRegex.search('My number is 123-456-7890.')\n",
    "print(mo.groups()) # Prints all groups in a tuple format\n",
    "print(mo.group()) # Always returns the fully matched string \n",
    "print(mo.group(1)) # Returns the first group\n",
    "print(mo.group(2)) # Returns the second group"
   ]
  },
  {
   "cell_type": "markdown",
   "id": "e92fe17b",
   "metadata": {},
   "source": [
    "=========================================================================================\n",
    "\n",
    "Question 6.  In standard expression syntax, parentheses and intervals have distinct meanings. How can you tell a regex that you want it to fit real parentheses and periods ?\n",
    "\n",
    "Answer:  The \\. \\( and \\) escape characters in the raw string passed to re.compile() will match actual parenthesis characters."
   ]
  },
  {
   "cell_type": "code",
   "execution_count": 8,
   "id": "b5ff3795",
   "metadata": {},
   "outputs": [
    {
     "name": "stdout",
     "output_type": "stream",
     "text": [
      "(123) 456-7890\n"
     ]
    }
   ],
   "source": [
    "import re\n",
    "phoneNumRegex = re.compile(r'(\\(\\d\\d\\d\\)) (\\d\\d\\d-\\d\\d\\d\\d)')\n",
    "mo = phoneNumRegex.search('My phone number is (123) 456-7890.')\n",
    "print(mo.group())"
   ]
  },
  {
   "cell_type": "markdown",
   "id": "7cf82511",
   "metadata": {},
   "source": [
    "=========================================================================================\n",
    "\n",
    "Question 7.  The findall() method returns a string list or a list of string tuples. What causes it to return one of the two options ?\n",
    "\n",
    "Answer:  If the regex pattern has no groups, a list of strings matched is returned. if the regex pattern has groups, a list of tuple of strings is returned."
   ]
  },
  {
   "cell_type": "code",
   "execution_count": 9,
   "id": "ebd28120",
   "metadata": {},
   "outputs": [
    {
     "name": "stdout",
     "output_type": "stream",
     "text": [
      "[('(123)', '456-7890')]\n",
      "['123-456-7890']\n"
     ]
    }
   ],
   "source": [
    "import re\n",
    "phoneNumRegex = re.compile(r'(\\(\\d\\d\\d\\)) (\\d\\d\\d-\\d\\d\\d\\d)')\n",
    "mo = phoneNumRegex.findall('My phone number is (123) 456-7890.')\n",
    "print(mo)\n",
    "\n",
    "#e. g\n",
    "import re\n",
    "phoneNumRegex = re.compile(r'\\d{3}-\\d{3}-\\d{4}')\n",
    "mo = phoneNumRegex.findall('My number is 123-456-7890.')\n",
    "print(mo) # Prints all groups in a tuple format"
   ]
  },
  {
   "cell_type": "markdown",
   "id": "df105db8",
   "metadata": {},
   "source": [
    "========================================================================================\n",
    "\n",
    "Question 8.  In standard expressions, what does the | character mean ?\n",
    "\n",
    "Answer:   In Standard Expressions | means OR operator.\n",
    "\n",
    "========================================================================================\n",
    "\n",
    "Question 9.  In regular expressions, what does the ? character stand for ?\n",
    "\n",
    "Answer:  In regular Expressions, ? characters represents zero or one match of the preceeding group."
   ]
  },
  {
   "cell_type": "code",
   "execution_count": 10,
   "id": "3913b92c",
   "metadata": {},
   "outputs": [
    {
     "name": "stdout",
     "output_type": "stream",
     "text": [
      "<re.Match object; span=(0, 6), match='Batman'>\n",
      "<re.Match object; span=(0, 8), match='Batwoman'>\n"
     ]
    }
   ],
   "source": [
    "import re\n",
    "match_1 = re.search(\"Bat(wo)?man\",\"Batman returns\")\n",
    "print(match_1)\n",
    "match_2 = re.search(\"Bat(wo)?man\",\"Batwoman returns\")\n",
    "print(match_2)"
   ]
  },
  {
   "cell_type": "markdown",
   "id": "2f114c6e",
   "metadata": {},
   "source": [
    "=======================================================================================\n",
    "\n",
    "Question 10.  In regular expressions, what is the difference between the + and * characters ?\n",
    "\n",
    "Answer:   In Regular Expressions, * Represents Zero ore more occurances of the preceeding group, whereas + represents one or more occurances of the preceeding group."
   ]
  },
  {
   "cell_type": "code",
   "execution_count": 11,
   "id": "8c2caf7d",
   "metadata": {},
   "outputs": [
    {
     "name": "stdout",
     "output_type": "stream",
     "text": [
      "<re.Match object; span=(0, 6), match='Batman'>\n",
      "None\n"
     ]
    }
   ],
   "source": [
    "import re\n",
    "match_1 = re.search(\"Bat(wo)*man\",\"Batman returns\")\n",
    "print(match_1)\n",
    "match_2 = re.search(\"Bat(wo)+man\",\"Batman returns\")\n",
    "print(match_2)"
   ]
  },
  {
   "cell_type": "markdown",
   "id": "02f82156",
   "metadata": {},
   "source": [
    "=======================================================================================\n",
    "\n",
    "Question 11.  What is the difference between {4} and {4,5} in regular expression ?\n",
    "\n",
    "Answer:  {4} means that its preceeding group should repeat 4 times. where as {4,5} means that its preceeding group should repeat mininum 4 times and maximum 5 times inclusively."
   ]
  },
  {
   "cell_type": "code",
   "execution_count": 12,
   "id": "0a233938",
   "metadata": {},
   "outputs": [
    {
     "name": "stdout",
     "output_type": "stream",
     "text": [
      "HaHaHa\n",
      "None\n"
     ]
    }
   ],
   "source": [
    "import re\n",
    "haRegex = re.compile(r'(Ha){3}')\n",
    "mo1 = haRegex.search('HaHaHa')\n",
    "mo2 = haRegex.search('Ha')\n",
    "print(mo1.group())\n",
    "print(mo2)"
   ]
  },
  {
   "cell_type": "markdown",
   "id": "5fa967b5",
   "metadata": {},
   "source": [
    "========================================================================================\n",
    "\n",
    "Question 12.  What do you mean by the \\d, \\w, and \\s shorthand character classes signify in regular expressions ?\n",
    "\n",
    "Answer:  \\d, \\w and \\s are special sequences in regular expresssions in python:\n",
    "\n",
    "1. \\w – Matches a word character equivalent to [a-zA-Z0-9_]\n",
    "2. \\d – Matches digit character equivalent to [0-9]\n",
    "3. \\s – Matches whitespace character (space, tab, newline, etc.)\n",
    "\n",
    "========================================================================================\n",
    "\n",
    "Question 13.   What is the difference between .*? and .*?\n",
    "\n",
    "Answer:  .* is a Greedy mode, which returns the longest string that meets the condition. Whereas .*? is a non greedy mode which returns the shortest string that meets the condition.\n",
    "\n",
    "========================================================================================\n",
    "\n",
    "Question 14.  What is the syntax for matching both numbers and lowercase letters with a character class ?\n",
    "\n",
    "Answer:  The Synatax is Either [a-z0-9] or [0-9a-z].\n",
    "\n",
    "========================================================================================\n",
    "\n",
    "Question 15.  What is the procedure for making a normal expression in regax case insensitive ?\n",
    "\n",
    "Answer:   We can pass re.IGNORECASE as a flag to make a noraml expression case insensitive.\n",
    "\n",
    "========================================================================================\n",
    "\n",
    "Question 16.  What does the . character normally match? What does it match if re.DOTALL is passed as 2nd argument in re.compile() ?\n",
    "\n",
    "Answer:  Dot . character matches everything in input except newline character .. By passing re.DOTALL as a flag to re.compile(), you can make the dot character match all characters, including the newline character.\n",
    "\n",
    "=========================================================================================\n",
    "\n",
    "Question 17.   If numReg = re.compile(r'\\d+'), what will numRegex.sub('X', '11 drummers, 10 pipers, five rings, 4 hen') return ?\n",
    "\n",
    "Answer:  The Ouput will be 'X drummers, X pipers, five rings, X hen' "
   ]
  },
  {
   "cell_type": "code",
   "execution_count": 13,
   "id": "a3790400",
   "metadata": {},
   "outputs": [
    {
     "data": {
      "text/plain": [
       "'X drummers, X pipers, five rings, X hen'"
      ]
     },
     "execution_count": 13,
     "metadata": {},
     "output_type": "execute_result"
    }
   ],
   "source": [
    "import re\n",
    "numReg = re.compile(r'\\d+')\n",
    "numReg.sub('X', '11 drummers, 10 pipers, five rings, 4 hen')"
   ]
  },
  {
   "cell_type": "markdown",
   "id": "17a6cb37",
   "metadata": {},
   "source": [
    "=========================================================================================\n",
    "\n",
    "Question 18.  What does passing re.VERBOSE as the 2nd argument to re.compile() allow to do ?\n",
    "\n",
    "Answer:  re.VERBOSE will allow to add whitespace and comments to string passed to re.compile()."
   ]
  },
  {
   "cell_type": "code",
   "execution_count": 14,
   "id": "4a16bf03",
   "metadata": {},
   "outputs": [],
   "source": [
    "# Without Using VERBOSE\n",
    "regex_email = re.compile(r'^([a-z0-9_\\.-]+)@([0-9a-z\\.-]+)\\.([a-z\\.]{2, 6})$', re.IGNORECASE)"
   ]
  },
  {
   "cell_type": "code",
   "execution_count": 15,
   "id": "27ab5bdc",
   "metadata": {},
   "outputs": [],
   "source": [
    "# Using VERBOSE\n",
    "regex_email = re.compile(r\"\"\"\n",
    "                            ^([a-z0-9_\\.-]+)              # local Part like username\n",
    "                            @                             # single @ sign \n",
    "                            ([0-9a-z\\.-]+)                # Domain name like google\n",
    "                            \\.                            # single Dot .\n",
    "                            ([a-z]{2,6})$                 # Top level Domain  like com/in/org\n",
    "                         \"\"\",re.VERBOSE | re.IGNORECASE)   "
   ]
  },
  {
   "cell_type": "markdown",
   "id": "e45a0091",
   "metadata": {},
   "source": [
    "===========================================================================================\n",
    "\n",
    "Question 19.  How would you write a regex that match a number with comma for every three digits? It must match the given following:\n",
    "\n",
    "Answer:  '42','1,234', '6,368,745'but not the following: '12,34,567' (which has only two digits between the commas) '1234' (which lacks commas)."
   ]
  },
  {
   "cell_type": "code",
   "execution_count": 16,
   "id": "85238f6c",
   "metadata": {},
   "outputs": [
    {
     "name": "stdout",
     "output_type": "stream",
     "text": [
      "Output: 42 -> <re.Match object; span=(0, 2), match='42'>\n",
      "Output: 1,234 -> <re.Match object; span=(0, 5), match='1,234'>\n",
      "Output: 6,368,745 -> <re.Match object; span=(0, 9), match='6,368,745'>\n",
      "Output: 12,34,567 -> None\n",
      "Output: 1234 -> None\n"
     ]
    }
   ],
   "source": [
    "import re\n",
    "pattern = r'^\\d{1,3}(,\\d{3})*$'\n",
    "pagex = re.compile(pattern)\n",
    "for ele in ['42','1,234', '6,368,745','12,34,567','1234']:\n",
    "    print('Output:',ele, '->', pagex.search(ele))"
   ]
  },
  {
   "cell_type": "markdown",
   "id": "b79e2411",
   "metadata": {},
   "source": [
    "============================================================================================\n",
    "\n",
    "Question 20.  How would you write a regex that matches the full name of someone whose last name is Watanabe? You can assume that the first name that comes before it will always be one word that begins with a capital letter. The regex must match the following:\n",
    "\n",
    "'Haruto Watanabe'\n",
    "'Alice Watanabe'\n",
    "'RoboCop Watanabe'\n",
    "\n",
    "but not the following:\n",
    "\n",
    "'haruto Watanabe' (where the first name is not capitalized)\n",
    "'Mr. Watanabe' (where the preceding word has a nonletter character)\n",
    "'Watanabe' (which has no first name)\n",
    "'Haruto watanabe' (where Watanabe is not capitalized)\n",
    "\n",
    "Answer:  pattern = r'[A-Z]{1}[a-z]*\\sWatanabe'"
   ]
  },
  {
   "cell_type": "code",
   "execution_count": 17,
   "id": "6a07641c",
   "metadata": {},
   "outputs": [
    {
     "name": "stdout",
     "output_type": "stream",
     "text": [
      "Output:  Haruto Watanabe -> <re.Match object; span=(0, 15), match='Haruto Watanabe'>\n",
      "Output:  Alice Watanabe -> <re.Match object; span=(0, 14), match='Alice Watanabe'>\n",
      "Output:  RoboCop Watanabe -> <re.Match object; span=(4, 16), match='Cop Watanabe'>\n",
      "Output:  haruto Watanabe -> None\n",
      "Output:  Mr. Watanabe -> None\n",
      "Output:  Watanabe -> None\n",
      "Output:  Haruto watanabe -> None\n"
     ]
    }
   ],
   "source": [
    "import re\n",
    "pattern = r'[A-Z]{1}[a-z]*\\sWatanabe'\n",
    "namex = re.compile(pattern)\n",
    "for name in ['Haruto Watanabe','Alice Watanabe','RoboCop Watanabe','haruto Watanabe','Mr. Watanabe','Watanabe','Haruto watanabe']:\n",
    "    print('Output: ',name,'->',namex.search(name))"
   ]
  },
  {
   "cell_type": "markdown",
   "id": "05c497c2",
   "metadata": {},
   "source": [
    "============================================================================================\n",
    "\n",
    "Question 21.  How would you write a regex that matches a sentence where the first word is either Alice, Bob,or Carol; the second word is either eats, pets, or throws; the third word is apples, cats, or baseballs; and the sentence ends with a period? This regex should be case-insensitive. It must match the following:\n",
    "'Alice eats apples.'\n",
    "'Bob pets cats.'\n",
    "'Carol throws baseballs.'\n",
    "'Alice throws Apples.'\n",
    "'BOB EATS CATS.'\n",
    "\n",
    "but not the following:\n",
    "\n",
    "'RoboCop eats apples.'\n",
    "'ALICE THROWS FOOTBALLS.'\n",
    "'Carol eats 7 cats.'\n",
    "\n",
    "Answer:  pattern = r'(Alice|Bob|Carol)\\s(eats|pets|throws)\\s(apples|cats|baseballs)\\.'"
   ]
  },
  {
   "cell_type": "code",
   "execution_count": 18,
   "id": "d2af0a3c",
   "metadata": {},
   "outputs": [
    {
     "name": "stdout",
     "output_type": "stream",
     "text": [
      "Output:  Alice eats apples. -> <re.Match object; span=(0, 18), match='Alice eats apples.'>\n",
      "Output:  Bob pets cats. -> <re.Match object; span=(0, 14), match='Bob pets cats.'>\n",
      "Output:  Carol throws baseballs. -> <re.Match object; span=(0, 23), match='Carol throws baseballs.'>\n",
      "Output:  Alice throws Apples. -> <re.Match object; span=(0, 20), match='Alice throws Apples.'>\n",
      "Output:  BOB EATS CATS. -> <re.Match object; span=(0, 14), match='BOB EATS CATS.'>\n",
      "Output:  RoboCop eats apples. -> None\n",
      "Output:  ALICE THROWS FOOTBALLS. -> None\n",
      "Output:  Carol eats 7 cats. -> None\n"
     ]
    }
   ],
   "source": [
    "import re\n",
    "pattern = r'(Alice|Bob|Carol)\\s(eats|pets|throws)\\s(apples|cats|baseballs)\\.'\n",
    "casex = re.compile(pattern,re.IGNORECASE)\n",
    "for ele in ['Alice eats apples.','Bob pets cats.','Carol throws baseballs.','Alice throws Apples.','BOB EATS CATS.','RoboCop eats apples.'\n",
    ",'ALICE THROWS FOOTBALLS.','Carol eats 7 cats.']:\n",
    "    print('Output: ',ele,'->',casex.search(ele))"
   ]
  }
 ],
 "metadata": {
  "kernelspec": {
   "display_name": "Python 3 (ipykernel)",
   "language": "python",
   "name": "python3"
  },
  "language_info": {
   "codemirror_mode": {
    "name": "ipython",
    "version": 3
   },
   "file_extension": ".py",
   "mimetype": "text/x-python",
   "name": "python",
   "nbconvert_exporter": "python",
   "pygments_lexer": "ipython3",
   "version": "3.11.4"
  }
 },
 "nbformat": 4,
 "nbformat_minor": 5
}
