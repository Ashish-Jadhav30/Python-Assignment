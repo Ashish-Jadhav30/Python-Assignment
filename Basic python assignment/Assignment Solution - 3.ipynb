{
 "cells": [
  {
   "cell_type": "markdown",
   "id": "4cc7b6ac",
   "metadata": {},
   "source": [
    "# Assignment Solution - 3"
   ]
  },
  {
   "cell_type": "markdown",
   "id": "44cf3e70",
   "metadata": {},
   "source": [
    "=============================================================================================\n",
    "\n",
    "Question 1.  Why are functions advantageous to have in your programs  ?\n",
    "\n",
    "Answer:  A function is a mapping of zero or more input parameters to zero or more output parameters.\n",
    "\n",
    "The advantages of using functions are:\n",
    "\n",
    "Reducing duplication of code\n",
    "Decomposing complex problems into simpler pieces\n",
    "Improving clarity of the code\n",
    "Reuse of code\n",
    "Information hiding\n",
    "\n",
    "Functions in Python are first-class citizens. It means that functions have equal status with other objects in Python. Functions can be assigned to variables, stored in collections, or passed as arguments. This brings additional flexibility to the language.\n",
    "\n",
    "=============================================================================================\n",
    "\n",
    "Question 2.  When does the code in a function run: when it's specified or when it's called  ?\n",
    "\n",
    "Answer:  The code in a function executes when the function is called, not when the function is defined.\n",
    "\n",
    "=============================================================================================\n",
    "\n",
    "Question 3.  What statement creates a function  ?\n",
    "\n",
    "Answer:  In Python, you define a function with the def keyword, then write the function identifier (name) followed by parentheses and a colon."
   ]
  },
  {
   "cell_type": "code",
   "execution_count": 1,
   "id": "ea4496ed",
   "metadata": {},
   "outputs": [
    {
     "name": "stdout",
     "output_type": "stream",
     "text": [
      "Hello from a function\n"
     ]
    }
   ],
   "source": [
    "#E.g of creating functions\n",
    "def my_function():\n",
    "  print(\"Hello from a function\")\n",
    "\n",
    "my_function()"
   ]
  },
  {
   "cell_type": "markdown",
   "id": "5656d614",
   "metadata": {},
   "source": [
    "=============================================================================================\n",
    "\n",
    "Question 4.  What is the difference between a function and a function call  ?\n",
    "\n",
    "Answer:  A function is a piece of code which enhanced the reusability and modularity of your program. It means that piece of code need not be written again. A function call means invoking or calling that function. Unless a function is called there is no use of that function"
   ]
  },
  {
   "cell_type": "code",
   "execution_count": 2,
   "id": "d0c3c184",
   "metadata": {},
   "outputs": [],
   "source": [
    "#Function\n",
    "def my_function1():\n",
    "  print(\"Hello World\")"
   ]
  },
  {
   "cell_type": "code",
   "execution_count": 3,
   "id": "cbc9ce35",
   "metadata": {},
   "outputs": [
    {
     "name": "stdout",
     "output_type": "stream",
     "text": [
      "Hello World\n"
     ]
    }
   ],
   "source": [
    "#Function call\n",
    "my_function1()"
   ]
  },
  {
   "cell_type": "markdown",
   "id": "c0572898",
   "metadata": {},
   "source": [
    "===========================================================================================\n",
    "\n",
    "Question 5.  How many global scopes are there in a Python program? How many local scopes  ?\n",
    "\n",
    "Answer:A variable created in the main body of the Python code is a global variable and belongs to the global scope.\n",
    "Global variables are available from within any scope, global and local. There is one global scope, and a local scope is created whenever a function is called.\n",
    "\n",
    "============================================================================================\n",
    "\n",
    "Question 6.  What happens to variables in a local scope when the function call returns ?\n",
    "\n",
    "Answer:  When the execution of the function terminates (returns), the local variables are destroyed. Codelens helps you visualize this because the local variables disappear after the function returns.\n",
    "\n",
    "===========================================================================================\n",
    "\n",
    "Question 7.  What is the concept of a return value? Is it possible to have a return value in an expression ?\n",
    "\n",
    "Answer:  A return is a value that a function returns to the calling script or function when it completes its task. A return value can be any one of the four variable types: handle, integer, object, or string. Its possible to have a return value in an expression.\n",
    "\n",
    "===========================================================================================\n",
    "\n",
    "Question 8.  If a function does not have a return statement, what is the return value of a call to that function ?\n",
    "\n",
    "Answer:  Regardless of how long and complex your functions are, any function without an explicit return statement, or one with a return statement without a return value, will return None.\n",
    "\n",
    "==========================================================================================\n",
    "\n",
    "Question 9.  How do you make a function variable refer to the global variable ?\n",
    "\n",
    "Answer:  The keyword 'Global' is also used to create or declare a global variable inside a function. Usually, when you create a variable inside a function (a local variable), it can only be used within that function."
   ]
  },
  {
   "cell_type": "code",
   "execution_count": 4,
   "id": "46535ecb",
   "metadata": {},
   "outputs": [
    {
     "name": "stdout",
     "output_type": "stream",
     "text": [
      "Python is fantastic\n"
     ]
    }
   ],
   "source": [
    "def myfunc():\n",
    "  global x\n",
    "  x = \"fantastic\"\n",
    "\n",
    "myfunc()\n",
    "\n",
    "print(\"Python is \" + x)"
   ]
  },
  {
   "cell_type": "markdown",
   "id": "4f62d54e",
   "metadata": {},
   "source": [
    "==========================================================================================\n",
    "\n",
    "Question 10.  What is the data type of None ?\n",
    "\n",
    "Answer:  The data type of None is NoneType.\n",
    "\n",
    "==========================================================================================\n",
    "\n",
    "Question 11.  What does the sentence import areallyourpetsnamederic do ?\n",
    "\n",
    "Answer:  That import statement imports a module named areallyourpetsnamederic.\n",
    "\n",
    "=========================================================================================\n",
    "\n",
    "Question 12.  If you had a bacon() feature in a spam module, what would you call it after importing spam ?\n",
    "\n",
    "Answer:   This function can be called with spam.bacon().\n",
    "\n",
    "=========================================================================================\n",
    "\n",
    "Question 13.   What can you do to save a programme from crashing if it encounters an error ?\n",
    "\n",
    "Answer:  Place the line of code that might cause an error in a try clause and use except block to handle the error.\n",
    "\n",
    "========================================================================================\n",
    "\n",
    "Question 14.  What is the purpose of the try clause? What is the purpose of the except clause ?\n",
    "\n",
    "Answer:  The code that could potentially cause an error goes in the try clause. The code that executes if an error happens goes in the except clause."
   ]
  }
 ],
 "metadata": {
  "kernelspec": {
   "display_name": "Python 3 (ipykernel)",
   "language": "python",
   "name": "python3"
  },
  "language_info": {
   "codemirror_mode": {
    "name": "ipython",
    "version": 3
   },
   "file_extension": ".py",
   "mimetype": "text/x-python",
   "name": "python",
   "nbconvert_exporter": "python",
   "pygments_lexer": "ipython3",
   "version": "3.11.4"
  }
 },
 "nbformat": 4,
 "nbformat_minor": 5
}
