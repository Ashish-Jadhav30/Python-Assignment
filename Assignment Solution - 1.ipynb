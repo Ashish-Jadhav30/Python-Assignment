{
 "cells": [
  {
   "cell_type": "markdown",
   "id": "63f9c123",
   "metadata": {},
   "source": [
    "# Assignment Solution - 1"
   ]
  },
  {
   "cell_type": "markdown",
   "id": "e74437a4",
   "metadata": {},
   "source": [
    "Question 1. In the below elements which of them are values or an expression? eg:- values can be integer or string and expressions will be mathematical operators.\n",
    "\n",
    "*,'hello', -87.8,-,/,+,6 \n",
    "\n",
    "Answer: In the above example there are 3 expression and 4 operators.\n",
    "Expression: 'hello', -87.8, 6\n",
    "operators: *, -, /, +.\n",
    "\n",
    "=====================================================================================================================\n",
    "\n",
    "Question 2. What is the difference between string and variable ?\n",
    "\n",
    "Answer: String is a value of repeating text wich is stored in a variable.\n",
    "e.g string = \"The quick brown fox jumps over the lazy dog\".\n",
    "\n",
    "Variable is a name that refer to any value.\n",
    "e.g My_var = \"The quick brown fox jumps over the lazy dog\". In this example variable is \"My_var\".\n",
    "\n",
    "====================================================================================================================\n",
    "\n",
    "Question 3. Describe three different Data Types ?\n",
    "\n",
    "Answer: Variables can store data of different types, and different types can do different things. Python has the following data types built-in by default, in these categories:\n",
    "\n",
    "A. Text type: \n",
    "1. String (Immutable):- \"The quick brown fox jumps over the lazy dog\".\n",
    "\n",
    "B. Numeric Type:\n",
    "1. Integers (Immutable): 123456789, 9876543210. \n",
    "2.Floats (Immutable): 1.1, 3.14, 5.684, 14.3521.\n",
    "3. Complex (Immutable): 3 + 3i, 1 + 2j, 120 - 15x.\n",
    "\n",
    "C. Sequence Type:\n",
    "1. Lists (Mutable): [A, B, C, D, E], [a, 1, b, 2, c, 3].\n",
    "2. Tuples (Immutable): (A, 1, B, 2), (1, 2, 3, 4).\n",
    "3. Range : It is an in-built function in Python which returns a sequence of numbers starting from 0 and increments to 1 until it reaches a specified number. The most common use of range function is to iterate sequence type.\n",
    "\n",
    "D. Mapping Type:\n",
    "1. Dictionaries (Mutable): {A:10, B:20, C:30}.\n",
    "\n",
    "E. Set Type:\n",
    "1. Sets (Mutable): {\"apple\", \"banana\", \"cherry\"}.\n",
    "2. frozensets : Frozen set is just an immutable version of a Python set object. While elements of a set can be modified at any time, elements of the frozen set remain the same after creation. Frozen sets can be used as keys in Dictionary or as elements of another set.\n",
    "\n",
    "F. Boolean Type:\n",
    "1. Booleans (Immutable): True/False. \n",
    "\n",
    "G. Binary Type:\n",
    "1. There are 8 bits in a byte.\n",
    "2. Bits either consist of a 0 or a 1.\n",
    "3. A byte can be interpreted in different ways, like binary octal or hexadecimal.\n",
    "\n",
    "H. None Type:\n",
    "1. Nonetype: The None keyword in Python is a data type and an object of the NoneType class. The None keyword is used for defining a null variable or an object in Python. None can be assigned to any variable, but new NoneType objects cannot be created.\n",
    "\n",
    "=====================================================================================================================\n",
    "\n",
    "Question 4. What is an expression made up of? What do all expressions do ?\n",
    "\n",
    "Answer: An expression is a combination of values, variables, operators, and calls to functions. Expressions need to be evaluated. e.g. print an expression, the interpreter evaluates the expression and displays the result.\n",
    "\n",
    "=====================================================================================================================\n",
    "\n",
    "Question 5. This assignment statements, like spam = 10. What is the difference between an expression and a statement ?\n",
    "\n",
    "Answer: Statements are instructions that perform some sort of action, but do not produce any value. Statements are used to control the flow of the program and carry out various tasks, such as defining variables, making decisions, and looping through data. \n",
    "e.g of Statement\n",
    "Course_name = \"Data Science\"\n",
    "\n",
    "Expressions are code constructs that evaluate to a value. Expressions can contain variables, operators, and function calls, and can be used in a variety of contexts, such as assignments, print statements, and return statements. An expression always evaluates to a single value, which can be of any data type (such as integer, float, string, etc.).\n",
    "e.g of Expression\n",
    "print(Course_name)\n",
    "\n",
    "======================================================================================================================\n",
    "\n",
    "Question 6. .After running the following code, what does the variable bacon contain?\n",
    "bacon = 22\n",
    "bacon + 1\n",
    "\n",
    "Answer: The variable bacon is fixed to 22. The expression case 1: bacon + 1 with print (bacon) expression does not reassign the value in bacon (if  you want to assign case 2: bacon + 1 and run code )\n"
   ]
  },
  {
   "cell_type": "code",
   "execution_count": 2,
   "id": "45836cac",
   "metadata": {},
   "outputs": [
    {
     "name": "stdout",
     "output_type": "stream",
     "text": [
      "22\n"
     ]
    }
   ],
   "source": [
    "#Case 1\n",
    "bacon = 22\n",
    "bacon + 1\n",
    "print (bacon)"
   ]
  },
  {
   "cell_type": "code",
   "execution_count": 3,
   "id": "a5a7c274",
   "metadata": {},
   "outputs": [
    {
     "data": {
      "text/plain": [
       "23"
      ]
     },
     "execution_count": 3,
     "metadata": {},
     "output_type": "execute_result"
    }
   ],
   "source": [
    "#Case 2\n",
    "bacon = 22\n",
    "bacon + 1"
   ]
  },
  {
   "cell_type": "markdown",
   "id": "f5d126ab",
   "metadata": {},
   "source": [
    "\"\"\"====================================================================================================================\"\"\"\n",
    "\n",
    "Question 7. What should the values of the following two terms be?\n",
    "'spam'+'spamspam'\n",
    "'spam'*3\n",
    "\n",
    "Answer: Both expressions evaluate to the string 'spamspamspam' Where as the first expression follows String Concatentation and the second expression follows String Multiplication"
   ]
  },
  {
   "cell_type": "code",
   "execution_count": 6,
   "id": "99873a3b",
   "metadata": {},
   "outputs": [
    {
     "data": {
      "text/plain": [
       "'spamspamspam'"
      ]
     },
     "execution_count": 6,
     "metadata": {},
     "output_type": "execute_result"
    }
   ],
   "source": [
    "'spam'+'spamspam'"
   ]
  },
  {
   "cell_type": "code",
   "execution_count": 7,
   "id": "84f870e1",
   "metadata": {},
   "outputs": [
    {
     "data": {
      "text/plain": [
       "'spamspamspam'"
      ]
     },
     "execution_count": 7,
     "metadata": {},
     "output_type": "execute_result"
    }
   ],
   "source": [
    "'spam'*3"
   ]
  },
  {
   "cell_type": "markdown",
   "id": "af7dbc12",
   "metadata": {},
   "source": [
    "\"\"\"====================================================================================================================\"\"\"\n",
    "\n",
    "Question 8. Why is eggs a valid variable name while 100 is invalid?\n",
    "\n",
    "Answer: As per python,Variable names cannot begin with a number. The python rules for naming a variable are :-\n",
    "\n",
    "Variable name must start with a letter or the underscore character.\n",
    "Variable name cannot start with a number.\n",
    "Variable name can only contain alpha-numeric characters and underscores (A-z, 0-9, & _ ).\n",
    "Variable names are case-sensitive (name, INEURON and ineuron are three different variables).\n",
    "The reserved words(keywords) cannot be used naming the variable."
   ]
  },
  {
   "cell_type": "code",
   "execution_count": 8,
   "id": "32f59ec4",
   "metadata": {},
   "outputs": [
    {
     "ename": "SyntaxError",
     "evalue": "cannot assign to literal here. Maybe you meant '==' instead of '='? (1502352406.py, line 2)",
     "output_type": "error",
     "traceback": [
      "\u001b[1;36m  Cell \u001b[1;32mIn[8], line 2\u001b[1;36m\u001b[0m\n\u001b[1;33m    100 = \"Hello World !!\"\u001b[0m\n\u001b[1;37m    ^\u001b[0m\n\u001b[1;31mSyntaxError\u001b[0m\u001b[1;31m:\u001b[0m cannot assign to literal here. Maybe you meant '==' instead of '='?\n"
     ]
    }
   ],
   "source": [
    "eggs = \"The quick brown fox jumps over the lazy dog\"\n",
    "100 = \"Hello World !!\""
   ]
  },
  {
   "cell_type": "markdown",
   "id": "2e3d9092",
   "metadata": {},
   "source": [
    "\"\"\"====================================================================================================================\"\"\"\n",
    "\n",
    "Question 9. What three functions can be used to get the integer,floating-point number,or string version of a value?\n",
    "\n",
    "Answer: The int(),float(),and str() functions will evaluate to the integer,floating-point number,string version of the value passed to them."
   ]
  },
  {
   "cell_type": "code",
   "execution_count": 12,
   "id": "613643da",
   "metadata": {},
   "outputs": [
    {
     "name": "stdout",
     "output_type": "stream",
     "text": [
      "10\n",
      "15.99\n",
      "20.6\n"
     ]
    }
   ],
   "source": [
    "#E.g\n",
    "print(int(10.25))\n",
    "print(float(15.99))\n",
    "print(str(20.60))"
   ]
  },
  {
   "cell_type": "markdown",
   "id": "7469ddfc",
   "metadata": {},
   "source": [
    "\"\"\"====================================================================================================================\"\"\"\n",
    "\n",
    "Question 10. Why does this expression cause an error? how can you fix it?\n",
    "\n",
    "'I have eaten ' + 99 + 'burritos.'\n",
    "\n",
    "Answer: This cause of error is 99. Because 99 is not a string. 99 must be typecasted to a string to fix this error. the correct way is 'I have eaten ' + str(99) + 'burritos.'"
   ]
  },
  {
   "cell_type": "code",
   "execution_count": 13,
   "id": "2314be78",
   "metadata": {},
   "outputs": [
    {
     "data": {
      "text/plain": [
       "'I have eaten 99burritos.'"
      ]
     },
     "execution_count": 13,
     "metadata": {},
     "output_type": "execute_result"
    }
   ],
   "source": [
    "'I have eaten ' + str(99) + 'burritos.'"
   ]
  }
 ],
 "metadata": {
  "kernelspec": {
   "display_name": "Python 3 (ipykernel)",
   "language": "python",
   "name": "python3"
  },
  "language_info": {
   "codemirror_mode": {
    "name": "ipython",
    "version": 3
   },
   "file_extension": ".py",
   "mimetype": "text/x-python",
   "name": "python",
   "nbconvert_exporter": "python",
   "pygments_lexer": "ipython3",
   "version": "3.11.4"
  }
 },
 "nbformat": 4,
 "nbformat_minor": 5
}
